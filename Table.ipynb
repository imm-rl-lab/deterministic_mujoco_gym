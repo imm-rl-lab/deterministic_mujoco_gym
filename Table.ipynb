{
 "cells": [
  {
   "cell_type": "markdown",
   "metadata": {},
   "source": [
    "| Environments | <code>reset()</code> | <code>step()</code> | <code>virtual_step()</code> |\n",
    "|:-------------|:--------------------:|:-------------------:|:---------------------------:|\n",
    "| <code>DMControlEnv('acrobot', 'swingup')</code> | $0$ | $0$ | $0$ |\n",
    "| <code>DMControlEnv('acrobot', 'swingup_sparse')</code> | $0$ | $0$ | $0$ |\n",
    "| <code>DMControlEnv('ball_in_cup', 'catch')</code> | $0$ | $0$ | $10^{-3}$ |\n",
    "| <code>DMControlEnvWithPhysics('ball_in_cup', 'catch')</code> | $0$ | $0$ | $0$ |"
   ]
  },
  {
   "cell_type": "code",
   "execution_count": null,
   "metadata": {},
   "outputs": [],
   "source": []
  }
 ],
 "metadata": {
  "kernelspec": {
   "display_name": "Python 3",
   "language": "python",
   "name": "python3"
  },
  "language_info": {
   "codemirror_mode": {
    "name": "ipython",
    "version": 3
   },
   "file_extension": ".py",
   "mimetype": "text/x-python",
   "name": "python",
   "nbconvert_exporter": "python",
   "pygments_lexer": "ipython3",
   "version": "3.9.0"
  }
 },
 "nbformat": 4,
 "nbformat_minor": 4
}
