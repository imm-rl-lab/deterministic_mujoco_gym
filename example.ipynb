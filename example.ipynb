{
 "cells": [
  {
   "cell_type": "code",
   "execution_count": null,
   "metadata": {},
   "outputs": [],
   "source": [
    "import numpy as np\n",
    "???\n",
    "\n",
    "env = ???\n",
    "state_dim = ???\n",
    "action_dim = ???\n",
    "\n",
    "t = 0\n",
    "state = env.reset()\n",
    "done = False\n",
    "while not done and t < 200:\n",
    "    action = np.zeros(action_dim)\n",
    "    state, reward, done, _ = env.state(action)\n",
    "    \n",
    "    if i == 100:\n",
    "        saved_state = state\n",
    "        \n",
    "env.set_state(saved_state)\n",
    "while not done and t < 100:\n",
    "    action = np.zeros(action_dim)\n",
    "    state, reward, done, _ = env.state(action)\n",
    "    "
   ]
  }
 ],
 "metadata": {
  "kernelspec": {
   "display_name": "Python 3",
   "language": "python",
   "name": "python3"
  },
  "language_info": {
   "codemirror_mode": {
    "name": "ipython",
    "version": 3
   },
   "file_extension": ".py",
   "mimetype": "text/x-python",
   "name": "python",
   "nbconvert_exporter": "python",
   "pygments_lexer": "ipython3",
   "version": "3.9.0"
  }
 },
 "nbformat": 4,
 "nbformat_minor": 4
}
